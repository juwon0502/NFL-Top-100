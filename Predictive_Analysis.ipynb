{
  "nbformat": 4,
  "nbformat_minor": 0,
  "metadata": {
    "colab": {
      "name": "Predictive Analysis.ipynb",
      "provenance": [],
      "authorship_tag": "ABX9TyMkagYVP+XvwiYKWY1Wa287",
      "include_colab_link": true
    },
    "kernelspec": {
      "name": "python3",
      "display_name": "Python 3"
    },
    "language_info": {
      "name": "python"
    }
  },
  "cells": [
    {
      "cell_type": "markdown",
      "metadata": {
        "id": "view-in-github",
        "colab_type": "text"
      },
      "source": [
        "<a href=\"https://colab.research.google.com/github/juwon0502/NFL-Top-100/blob/main/Predictive_Analysis.ipynb\" target=\"_parent\"><img src=\"https://colab.research.google.com/assets/colab-badge.svg\" alt=\"Open In Colab\"/></a>"
      ]
    },
    {
      "cell_type": "code",
      "metadata": {
        "id": "MSDggKUuoziX"
      },
      "source": [
        "import pandas as pd\n",
        "from matplotlib import pyplot as plt"
      ],
      "execution_count": 95,
      "outputs": []
    },
    {
      "cell_type": "code",
      "metadata": {
        "id": "0chMYbKy42jM"
      },
      "source": [
        "from sklearn.model_selection import train_test_split\n",
        "from sklearn.linear_model import LinearRegression as ln\n",
        "from sklearn.linear_model import LogisticRegression as logn\n",
        "from sklearn.neighbors import KNeighborsClassifier as KNN\n",
        "from sklearn.naive_bayes import GaussianNB as GNB\n",
        "from sklearn.ensemble import RandomForestClassifier as RFC\n",
        "from sklearn import tree\n",
        "from sklearn.tree import DecisionTreeClassifier as DTC\n",
        "from sklearn.metrics import accuracy_score\n",
        "from sklearn.model_selection import cross_val_score\n",
        "from sklearn.tree import export_text"
      ],
      "execution_count": 96,
      "outputs": []
    },
    {
      "cell_type": "code",
      "metadata": {
        "id": "EW6ObIof1Y81"
      },
      "source": [
        "MARK = 20"
      ],
      "execution_count": 141,
      "outputs": []
    },
    {
      "cell_type": "markdown",
      "metadata": {
        "id": "aN95GkBN4AqY"
      },
      "source": [
        "## Set up "
      ]
    },
    {
      "cell_type": "code",
      "metadata": {
        "id": "u70Y6oXLyj31"
      },
      "source": [
        "rank = pd.read_csv('https://raw.githubusercontent.com/juwon0502/NFL-Top-100/main/def_data.csv' , index_col=['Year','Player'])\n",
        "qb = pd.read_csv('https://raw.githubusercontent.com/juwon0502/NFL-Top-100/main/qb_data.csv' , index_col=['Year','Player'])\n",
        "wr = pd.read_csv('https://raw.githubusercontent.com/juwon0502/NFL-Top-100/main/wr_data.csv' , index_col=['Year','Player'])\n",
        "te = pd.read_csv('https://raw.githubusercontent.com/juwon0502/NFL-Top-100/main/te_data.csv' , index_col=['Year','Player'])\n",
        "rb = pd.read_csv('https://raw.githubusercontent.com/juwon0502/NFL-Top-100/main/rb_data.csv' , index_col=['Year','Player'])\n",
        "deff = pd.read_csv('https://raw.githubusercontent.com/juwon0502/NFL-Top-100/main/def_data.csv' , index_col=['Year','Player'])"
      ],
      "execution_count": 152,
      "outputs": []
    },
    {
      "cell_type": "code",
      "metadata": {
        "id": "XjKVbJ1MzdV0"
      },
      "source": [
        "pm = pd.concat([wr,te,rb])"
      ],
      "execution_count": 153,
      "outputs": []
    },
    {
      "cell_type": "code",
      "metadata": {
        "id": "ejqsxR5h0Jxt"
      },
      "source": [
        "pm['Top'] = 0\n",
        "pm.loc[pm['Rank']<=MARK , 'Top'] = 1\n",
        "qb['Top'] = 0\n",
        "qb.loc[qb['Rank']<=MARK , 'Top'] = 1\n",
        "deff['Top'] = 0\n",
        "deff.loc[deff['Rank']<= MARK , 'Top'] = 1"
      ],
      "execution_count": 154,
      "outputs": []
    },
    {
      "cell_type": "markdown",
      "metadata": {
        "id": "sLHrnK3T40ZR"
      },
      "source": [
        "### Deffense"
      ]
    },
    {
      "cell_type": "code",
      "metadata": {
        "colab": {
          "base_uri": "https://localhost:8080/",
          "height": 143
        },
        "id": "cOBz8tjJ5g36",
        "outputId": "1ea38ee3-387f-4e6a-e460-3670b49e1110"
      },
      "source": [
        "deff.groupby('Top').count()"
      ],
      "execution_count": 123,
      "outputs": [
        {
          "output_type": "execute_result",
          "data": {
            "text/html": [
              "<div>\n",
              "<style scoped>\n",
              "    .dataframe tbody tr th:only-of-type {\n",
              "        vertical-align: middle;\n",
              "    }\n",
              "\n",
              "    .dataframe tbody tr th {\n",
              "        vertical-align: top;\n",
              "    }\n",
              "\n",
              "    .dataframe thead th {\n",
              "        text-align: right;\n",
              "    }\n",
              "</style>\n",
              "<table border=\"1\" class=\"dataframe\">\n",
              "  <thead>\n",
              "    <tr style=\"text-align: right;\">\n",
              "      <th></th>\n",
              "      <th>Rank</th>\n",
              "      <th>Position</th>\n",
              "      <th>Team</th>\n",
              "      <th>Points</th>\n",
              "      <th>Int</th>\n",
              "      <th>Yds</th>\n",
              "      <th>TD</th>\n",
              "      <th>Lng</th>\n",
              "      <th>PD</th>\n",
              "      <th>FF</th>\n",
              "      <th>Fmb</th>\n",
              "      <th>FR</th>\n",
              "      <th>Yds.1</th>\n",
              "      <th>TD.1</th>\n",
              "      <th>Sk</th>\n",
              "      <th>Comb</th>\n",
              "      <th>Solo</th>\n",
              "      <th>Ast</th>\n",
              "      <th>TFL</th>\n",
              "      <th>QBHits</th>\n",
              "      <th>Sfty</th>\n",
              "      <th>AV</th>\n",
              "    </tr>\n",
              "    <tr>\n",
              "      <th>Top</th>\n",
              "      <th></th>\n",
              "      <th></th>\n",
              "      <th></th>\n",
              "      <th></th>\n",
              "      <th></th>\n",
              "      <th></th>\n",
              "      <th></th>\n",
              "      <th></th>\n",
              "      <th></th>\n",
              "      <th></th>\n",
              "      <th></th>\n",
              "      <th></th>\n",
              "      <th></th>\n",
              "      <th></th>\n",
              "      <th></th>\n",
              "      <th></th>\n",
              "      <th></th>\n",
              "      <th></th>\n",
              "      <th></th>\n",
              "      <th></th>\n",
              "      <th></th>\n",
              "      <th></th>\n",
              "    </tr>\n",
              "  </thead>\n",
              "  <tbody>\n",
              "    <tr>\n",
              "      <th>0</th>\n",
              "      <td>394</td>\n",
              "      <td>394</td>\n",
              "      <td>394</td>\n",
              "      <td>394</td>\n",
              "      <td>394</td>\n",
              "      <td>394</td>\n",
              "      <td>394</td>\n",
              "      <td>394</td>\n",
              "      <td>394</td>\n",
              "      <td>394</td>\n",
              "      <td>394</td>\n",
              "      <td>394</td>\n",
              "      <td>394</td>\n",
              "      <td>394</td>\n",
              "      <td>394</td>\n",
              "      <td>394</td>\n",
              "      <td>394</td>\n",
              "      <td>394</td>\n",
              "      <td>394</td>\n",
              "      <td>394</td>\n",
              "      <td>394</td>\n",
              "      <td>394</td>\n",
              "    </tr>\n",
              "    <tr>\n",
              "      <th>1</th>\n",
              "      <td>48</td>\n",
              "      <td>48</td>\n",
              "      <td>48</td>\n",
              "      <td>48</td>\n",
              "      <td>48</td>\n",
              "      <td>48</td>\n",
              "      <td>48</td>\n",
              "      <td>48</td>\n",
              "      <td>48</td>\n",
              "      <td>48</td>\n",
              "      <td>48</td>\n",
              "      <td>48</td>\n",
              "      <td>48</td>\n",
              "      <td>48</td>\n",
              "      <td>48</td>\n",
              "      <td>48</td>\n",
              "      <td>48</td>\n",
              "      <td>48</td>\n",
              "      <td>48</td>\n",
              "      <td>48</td>\n",
              "      <td>48</td>\n",
              "      <td>48</td>\n",
              "    </tr>\n",
              "  </tbody>\n",
              "</table>\n",
              "</div>"
            ],
            "text/plain": [
              "     Rank  Position  Team  Points  Int  Yds  ...  Solo  Ast  TFL  QBHits  Sfty   AV\n",
              "Top                                          ...                                   \n",
              "0     394       394   394     394  394  394  ...   394  394  394     394   394  394\n",
              "1      48        48    48      48   48   48  ...    48   48   48      48    48   48\n",
              "\n",
              "[2 rows x 22 columns]"
            ]
          },
          "metadata": {
            "tags": []
          },
          "execution_count": 123
        }
      ]
    },
    {
      "cell_type": "code",
      "metadata": {
        "colab": {
          "base_uri": "https://localhost:8080/",
          "height": 455
        },
        "id": "2R9FKcBl2UyF",
        "outputId": "167013d4-178c-4b0d-ded3-c8bb540746ea"
      },
      "source": [
        "y = deff.Top\n",
        "def_pos = ['DE', 'DT', 'LB', 'CB', 'S']\n",
        "\n",
        "for pos in def_pos:\n",
        "  deff[pos] = 0\n",
        "  deff.loc[deff['Position'].str.match(pos) , pos] = 1\n",
        "\n",
        "deff = deff.sort_values('Rank')\n",
        "X = deff.drop(columns = ['Rank', 'Position', 'Team', 'Points', 'Top'])\n",
        "X"
      ],
      "execution_count": 145,
      "outputs": [
        {
          "output_type": "execute_result",
          "data": {
            "text/html": [
              "<div>\n",
              "<style scoped>\n",
              "    .dataframe tbody tr th:only-of-type {\n",
              "        vertical-align: middle;\n",
              "    }\n",
              "\n",
              "    .dataframe tbody tr th {\n",
              "        vertical-align: top;\n",
              "    }\n",
              "\n",
              "    .dataframe thead th {\n",
              "        text-align: right;\n",
              "    }\n",
              "</style>\n",
              "<table border=\"1\" class=\"dataframe\">\n",
              "  <thead>\n",
              "    <tr style=\"text-align: right;\">\n",
              "      <th></th>\n",
              "      <th></th>\n",
              "      <th>Int</th>\n",
              "      <th>Yds</th>\n",
              "      <th>TD</th>\n",
              "      <th>Lng</th>\n",
              "      <th>PD</th>\n",
              "      <th>FF</th>\n",
              "      <th>Fmb</th>\n",
              "      <th>FR</th>\n",
              "      <th>Yds.1</th>\n",
              "      <th>TD.1</th>\n",
              "      <th>Sk</th>\n",
              "      <th>Comb</th>\n",
              "      <th>Solo</th>\n",
              "      <th>Ast</th>\n",
              "      <th>TFL</th>\n",
              "      <th>QBHits</th>\n",
              "      <th>Sfty</th>\n",
              "      <th>AV</th>\n",
              "      <th>DE</th>\n",
              "      <th>DT</th>\n",
              "      <th>LB</th>\n",
              "      <th>CB</th>\n",
              "      <th>S</th>\n",
              "    </tr>\n",
              "    <tr>\n",
              "      <th>Year</th>\n",
              "      <th>Player</th>\n",
              "      <th></th>\n",
              "      <th></th>\n",
              "      <th></th>\n",
              "      <th></th>\n",
              "      <th></th>\n",
              "      <th></th>\n",
              "      <th></th>\n",
              "      <th></th>\n",
              "      <th></th>\n",
              "      <th></th>\n",
              "      <th></th>\n",
              "      <th></th>\n",
              "      <th></th>\n",
              "      <th></th>\n",
              "      <th></th>\n",
              "      <th></th>\n",
              "      <th></th>\n",
              "      <th></th>\n",
              "      <th></th>\n",
              "      <th></th>\n",
              "      <th></th>\n",
              "      <th></th>\n",
              "      <th></th>\n",
              "    </tr>\n",
              "  </thead>\n",
              "  <tbody>\n",
              "    <tr>\n",
              "      <th>2014</th>\n",
              "      <th>J. J. Watt</th>\n",
              "      <td>1</td>\n",
              "      <td>80</td>\n",
              "      <td>1</td>\n",
              "      <td>80</td>\n",
              "      <td>10</td>\n",
              "      <td>4</td>\n",
              "      <td>0</td>\n",
              "      <td>5</td>\n",
              "      <td>59</td>\n",
              "      <td>1</td>\n",
              "      <td>20.5</td>\n",
              "      <td>78</td>\n",
              "      <td>59</td>\n",
              "      <td>19</td>\n",
              "      <td>29</td>\n",
              "      <td>51</td>\n",
              "      <td>1</td>\n",
              "      <td>21</td>\n",
              "      <td>1</td>\n",
              "      <td>0</td>\n",
              "      <td>0</td>\n",
              "      <td>0</td>\n",
              "      <td>0</td>\n",
              "    </tr>\n",
              "    <tr>\n",
              "      <th>2018</th>\n",
              "      <th>Aaron Donald</th>\n",
              "      <td>0</td>\n",
              "      <td>0</td>\n",
              "      <td>0</td>\n",
              "      <td>0</td>\n",
              "      <td>1</td>\n",
              "      <td>4</td>\n",
              "      <td>0</td>\n",
              "      <td>2</td>\n",
              "      <td>0</td>\n",
              "      <td>0</td>\n",
              "      <td>20.5</td>\n",
              "      <td>59</td>\n",
              "      <td>41</td>\n",
              "      <td>18</td>\n",
              "      <td>25</td>\n",
              "      <td>41</td>\n",
              "      <td>0</td>\n",
              "      <td>16</td>\n",
              "      <td>0</td>\n",
              "      <td>1</td>\n",
              "      <td>0</td>\n",
              "      <td>0</td>\n",
              "      <td>0</td>\n",
              "    </tr>\n",
              "    <tr>\n",
              "      <th>2016</th>\n",
              "      <th>Von Miller</th>\n",
              "      <td>0</td>\n",
              "      <td>0</td>\n",
              "      <td>0</td>\n",
              "      <td>0</td>\n",
              "      <td>3</td>\n",
              "      <td>3</td>\n",
              "      <td>0</td>\n",
              "      <td>0</td>\n",
              "      <td>0</td>\n",
              "      <td>0</td>\n",
              "      <td>13.5</td>\n",
              "      <td>78</td>\n",
              "      <td>62</td>\n",
              "      <td>16</td>\n",
              "      <td>13</td>\n",
              "      <td>24</td>\n",
              "      <td>0</td>\n",
              "      <td>15</td>\n",
              "      <td>0</td>\n",
              "      <td>0</td>\n",
              "      <td>1</td>\n",
              "      <td>0</td>\n",
              "      <td>0</td>\n",
              "    </tr>\n",
              "    <tr>\n",
              "      <th>2015</th>\n",
              "      <th>J.J. Watt</th>\n",
              "      <td>0</td>\n",
              "      <td>0</td>\n",
              "      <td>0</td>\n",
              "      <td>0</td>\n",
              "      <td>8</td>\n",
              "      <td>3</td>\n",
              "      <td>0</td>\n",
              "      <td>1</td>\n",
              "      <td>0</td>\n",
              "      <td>0</td>\n",
              "      <td>17.5</td>\n",
              "      <td>76</td>\n",
              "      <td>57</td>\n",
              "      <td>19</td>\n",
              "      <td>29</td>\n",
              "      <td>50</td>\n",
              "      <td>0</td>\n",
              "      <td>19</td>\n",
              "      <td>1</td>\n",
              "      <td>0</td>\n",
              "      <td>0</td>\n",
              "      <td>0</td>\n",
              "      <td>0</td>\n",
              "    </tr>\n",
              "    <tr>\n",
              "      <th>2019</th>\n",
              "      <th>Aaron Donald</th>\n",
              "      <td>0</td>\n",
              "      <td>0</td>\n",
              "      <td>0</td>\n",
              "      <td>0</td>\n",
              "      <td>2</td>\n",
              "      <td>2</td>\n",
              "      <td>0</td>\n",
              "      <td>1</td>\n",
              "      <td>0</td>\n",
              "      <td>0</td>\n",
              "      <td>12.5</td>\n",
              "      <td>48</td>\n",
              "      <td>29</td>\n",
              "      <td>19</td>\n",
              "      <td>20</td>\n",
              "      <td>24</td>\n",
              "      <td>1</td>\n",
              "      <td>13</td>\n",
              "      <td>0</td>\n",
              "      <td>1</td>\n",
              "      <td>0</td>\n",
              "      <td>0</td>\n",
              "      <td>0</td>\n",
              "    </tr>\n",
              "    <tr>\n",
              "      <th>...</th>\n",
              "      <th>...</th>\n",
              "      <td>...</td>\n",
              "      <td>...</td>\n",
              "      <td>...</td>\n",
              "      <td>...</td>\n",
              "      <td>...</td>\n",
              "      <td>...</td>\n",
              "      <td>...</td>\n",
              "      <td>...</td>\n",
              "      <td>...</td>\n",
              "      <td>...</td>\n",
              "      <td>...</td>\n",
              "      <td>...</td>\n",
              "      <td>...</td>\n",
              "      <td>...</td>\n",
              "      <td>...</td>\n",
              "      <td>...</td>\n",
              "      <td>...</td>\n",
              "      <td>...</td>\n",
              "      <td>...</td>\n",
              "      <td>...</td>\n",
              "      <td>...</td>\n",
              "      <td>...</td>\n",
              "      <td>...</td>\n",
              "    </tr>\n",
              "    <tr>\n",
              "      <th>2015</th>\n",
              "      <th>Cameron Jordan</th>\n",
              "      <td>0</td>\n",
              "      <td>0</td>\n",
              "      <td>0</td>\n",
              "      <td>0</td>\n",
              "      <td>5</td>\n",
              "      <td>1</td>\n",
              "      <td>0</td>\n",
              "      <td>2</td>\n",
              "      <td>0</td>\n",
              "      <td>0</td>\n",
              "      <td>10.0</td>\n",
              "      <td>45</td>\n",
              "      <td>32</td>\n",
              "      <td>13</td>\n",
              "      <td>15</td>\n",
              "      <td>20</td>\n",
              "      <td>0</td>\n",
              "      <td>8</td>\n",
              "      <td>1</td>\n",
              "      <td>0</td>\n",
              "      <td>0</td>\n",
              "      <td>0</td>\n",
              "      <td>0</td>\n",
              "    </tr>\n",
              "    <tr>\n",
              "      <th>2016</th>\n",
              "      <th>Joey Bosa</th>\n",
              "      <td>0</td>\n",
              "      <td>0</td>\n",
              "      <td>0</td>\n",
              "      <td>0</td>\n",
              "      <td>0</td>\n",
              "      <td>0</td>\n",
              "      <td>0</td>\n",
              "      <td>0</td>\n",
              "      <td>0</td>\n",
              "      <td>0</td>\n",
              "      <td>10.5</td>\n",
              "      <td>41</td>\n",
              "      <td>29</td>\n",
              "      <td>12</td>\n",
              "      <td>17</td>\n",
              "      <td>21</td>\n",
              "      <td>0</td>\n",
              "      <td>5</td>\n",
              "      <td>1</td>\n",
              "      <td>0</td>\n",
              "      <td>0</td>\n",
              "      <td>0</td>\n",
              "      <td>0</td>\n",
              "    </tr>\n",
              "    <tr>\n",
              "      <th>2019</th>\n",
              "      <th>Lavonte David</th>\n",
              "      <td>1</td>\n",
              "      <td>26</td>\n",
              "      <td>0</td>\n",
              "      <td>26</td>\n",
              "      <td>7</td>\n",
              "      <td>3</td>\n",
              "      <td>0</td>\n",
              "      <td>1</td>\n",
              "      <td>0</td>\n",
              "      <td>0</td>\n",
              "      <td>1.0</td>\n",
              "      <td>123</td>\n",
              "      <td>82</td>\n",
              "      <td>41</td>\n",
              "      <td>10</td>\n",
              "      <td>7</td>\n",
              "      <td>0</td>\n",
              "      <td>8</td>\n",
              "      <td>0</td>\n",
              "      <td>0</td>\n",
              "      <td>1</td>\n",
              "      <td>0</td>\n",
              "      <td>0</td>\n",
              "    </tr>\n",
              "    <tr>\n",
              "      <th>2018</th>\n",
              "      <th>Eric Weddle</th>\n",
              "      <td>0</td>\n",
              "      <td>0</td>\n",
              "      <td>0</td>\n",
              "      <td>0</td>\n",
              "      <td>3</td>\n",
              "      <td>0</td>\n",
              "      <td>0</td>\n",
              "      <td>0</td>\n",
              "      <td>0</td>\n",
              "      <td>0</td>\n",
              "      <td>1.0</td>\n",
              "      <td>68</td>\n",
              "      <td>54</td>\n",
              "      <td>14</td>\n",
              "      <td>2</td>\n",
              "      <td>4</td>\n",
              "      <td>0</td>\n",
              "      <td>8</td>\n",
              "      <td>0</td>\n",
              "      <td>0</td>\n",
              "      <td>0</td>\n",
              "      <td>0</td>\n",
              "      <td>1</td>\n",
              "    </tr>\n",
              "    <tr>\n",
              "      <th>2017</th>\n",
              "      <th>Ha Ha Clinton-Dix</th>\n",
              "      <td>3</td>\n",
              "      <td>5</td>\n",
              "      <td>0</td>\n",
              "      <td>3</td>\n",
              "      <td>6</td>\n",
              "      <td>0</td>\n",
              "      <td>0</td>\n",
              "      <td>0</td>\n",
              "      <td>0</td>\n",
              "      <td>0</td>\n",
              "      <td>0.0</td>\n",
              "      <td>79</td>\n",
              "      <td>65</td>\n",
              "      <td>14</td>\n",
              "      <td>2</td>\n",
              "      <td>0</td>\n",
              "      <td>0</td>\n",
              "      <td>5</td>\n",
              "      <td>0</td>\n",
              "      <td>0</td>\n",
              "      <td>0</td>\n",
              "      <td>0</td>\n",
              "      <td>1</td>\n",
              "    </tr>\n",
              "  </tbody>\n",
              "</table>\n",
              "<p>442 rows × 23 columns</p>\n",
              "</div>"
            ],
            "text/plain": [
              "                        Int  Yds  TD  Lng  PD  FF  ...  AV  DE  DT  LB  CB  S\n",
              "Year Player                                        ...                       \n",
              "2014 J. J. Watt           1   80   1   80  10   4  ...  21   1   0   0   0  0\n",
              "2018 Aaron Donald         0    0   0    0   1   4  ...  16   0   1   0   0  0\n",
              "2016 Von Miller           0    0   0    0   3   3  ...  15   0   0   1   0  0\n",
              "2015 J.J. Watt            0    0   0    0   8   3  ...  19   1   0   0   0  0\n",
              "2019 Aaron Donald         0    0   0    0   2   2  ...  13   0   1   0   0  0\n",
              "...                     ...  ...  ..  ...  ..  ..  ...  ..  ..  ..  ..  .. ..\n",
              "2015 Cameron Jordan       0    0   0    0   5   1  ...   8   1   0   0   0  0\n",
              "2016 Joey Bosa            0    0   0    0   0   0  ...   5   1   0   0   0  0\n",
              "2019 Lavonte David        1   26   0   26   7   3  ...   8   0   0   1   0  0\n",
              "2018 Eric Weddle          0    0   0    0   3   0  ...   8   0   0   0   0  1\n",
              "2017 Ha Ha Clinton-Dix    3    5   0    3   6   0  ...   5   0   0   0   0  1\n",
              "\n",
              "[442 rows x 23 columns]"
            ]
          },
          "metadata": {
            "tags": []
          },
          "execution_count": 145
        }
      ]
    },
    {
      "cell_type": "code",
      "metadata": {
        "id": "U5jZGvrd5CdI"
      },
      "source": [
        "X_train, X_test, y_train, y_test = train_test_split(X,y, test_size=0.33, random_state=0)"
      ],
      "execution_count": 146,
      "outputs": []
    },
    {
      "cell_type": "code",
      "metadata": {
        "colab": {
          "base_uri": "https://localhost:8080/"
        },
        "id": "302ikM4zCuUz",
        "outputId": "ca7ab8fb-181d-4ff4-86be-c10b8faf254e"
      },
      "source": [
        "knn = KNN(n_neighbors=15)\n",
        "knn.fit(X_train, y_train)\n",
        "y_pred = knn.predict(X_test)\n",
        "test_score = accuracy_score(y_pred, y_test)\n",
        "print(\"test accuracy\", test_score)\n",
        "knn_pred = knn.predict(X_train)\n",
        "train_score = accuracy_score(knn_pred, y_train)\n",
        "print(\"training accuracy\" , train_score)"
      ],
      "execution_count": 148,
      "outputs": [
        {
          "output_type": "stream",
          "text": [
            "test accuracy 0.821917808219178\n",
            "training accuracy 0.8581081081081081\n"
          ],
          "name": "stdout"
        }
      ]
    },
    {
      "cell_type": "code",
      "metadata": {
        "colab": {
          "base_uri": "https://localhost:8080/"
        },
        "id": "HHFa0WhOGEKG",
        "outputId": "e4881c37-cf9a-472a-871a-a5064311c706"
      },
      "source": [
        "y_pred"
      ],
      "execution_count": 107,
      "outputs": [
        {
          "output_type": "execute_result",
          "data": {
            "text/plain": [
              "array([0, 0, 0, 0, 0, 0, 0, 0, 0, 0, 0, 0, 0, 0, 0, 0, 0, 0, 0, 0, 0, 0,\n",
              "       0, 0, 0, 0, 0, 0, 0, 0, 0, 0, 0, 0, 0, 0, 0, 0, 0, 0, 0, 0, 0, 0,\n",
              "       0, 0, 0, 0, 0, 0, 0, 0, 0, 0, 0, 0, 0, 0, 0, 0, 0, 0, 0, 0, 0, 0,\n",
              "       0, 0, 0, 0, 0, 1, 0, 0, 0, 0, 0, 0, 0, 0, 0, 0, 0, 0, 0, 0, 0, 0,\n",
              "       0, 0, 0, 0, 0, 0, 0, 0, 0, 0, 0, 0, 0, 0, 0, 0, 0, 0, 0, 0, 1, 0,\n",
              "       0, 0, 0, 0, 0, 0, 0, 0, 0, 0, 0, 0, 0, 0, 0, 0, 0, 0, 0, 0, 0, 0,\n",
              "       0, 0, 0, 0, 0, 0, 0, 0, 0, 0, 0, 0, 0, 0])"
            ]
          },
          "metadata": {
            "tags": []
          },
          "execution_count": 107
        }
      ]
    },
    {
      "cell_type": "markdown",
      "metadata": {
        "id": "K8AT2NS5Gwgv"
      },
      "source": [
        "### Decision Tree"
      ]
    },
    {
      "cell_type": "code",
      "metadata": {
        "colab": {
          "base_uri": "https://localhost:8080/"
        },
        "id": "WUgXdKAtGLxN",
        "outputId": "51899503-c841-4470-c54f-2b967f273b64"
      },
      "source": [
        "dtc = DTC(random_state=0, max_depth=3)\n",
        "dtc.fit(X_train, y_train)\n",
        "y_pred = dtc.predict(X_test)\n",
        "test_score = accuracy_score(y_pred, y_test)\n",
        "print(\"test accuracy\", test_score)\n",
        "knn_pred = dtc.predict(X_train)\n",
        "train_score = accuracy_score(knn_pred, y_train)\n",
        "print(\"training accuracy\" , train_score)"
      ],
      "execution_count": 139,
      "outputs": [
        {
          "output_type": "stream",
          "text": [
            "test accuracy 0.8972602739726028\n",
            "training accuracy 0.9391891891891891\n"
          ],
          "name": "stdout"
        }
      ]
    },
    {
      "cell_type": "code",
      "metadata": {
        "colab": {
          "base_uri": "https://localhost:8080/"
        },
        "id": "9w9kxN5qG1KJ",
        "outputId": "1130caf8-1998-4e7d-dddc-7a506340e0e5"
      },
      "source": [
        "y_pred"
      ],
      "execution_count": 140,
      "outputs": [
        {
          "output_type": "execute_result",
          "data": {
            "text/plain": [
              "array([0, 0, 0, 0, 0, 0, 1, 0, 0, 0, 0, 0, 0, 0, 0, 0, 0, 0, 0, 0, 0, 1,\n",
              "       0, 0, 0, 0, 0, 0, 0, 1, 0, 0, 0, 0, 0, 0, 0, 0, 0, 0, 0, 0, 0, 0,\n",
              "       0, 0, 0, 0, 0, 0, 0, 0, 0, 0, 0, 0, 0, 0, 0, 0, 0, 0, 0, 0, 0, 0,\n",
              "       0, 0, 0, 0, 0, 0, 0, 0, 0, 0, 0, 0, 0, 0, 0, 0, 0, 1, 0, 0, 0, 0,\n",
              "       0, 0, 0, 0, 0, 0, 0, 0, 0, 0, 0, 0, 0, 0, 0, 0, 0, 1, 0, 0, 0, 0,\n",
              "       0, 0, 0, 0, 0, 0, 0, 0, 0, 0, 0, 0, 0, 0, 0, 0, 0, 0, 0, 0, 0, 0,\n",
              "       0, 0, 0, 0, 0, 0, 0, 0, 0, 0, 0, 0, 0, 0])"
            ]
          },
          "metadata": {
            "tags": []
          },
          "execution_count": 140
        }
      ]
    },
    {
      "cell_type": "markdown",
      "metadata": {
        "id": "lbCHTQxJHPqq"
      },
      "source": [
        "## Playmakers (Wide Receivers, Running Backs, Tight Ends)"
      ]
    },
    {
      "cell_type": "code",
      "metadata": {
        "id": "4clahrNK05xO"
      },
      "source": [
        "pm_pos = ['RB', 'WR', 'TE']\n",
        "for pos in pm_pos:\n",
        "  pm[pos] = 0\n",
        "  pm.loc[pm['Position'].str.match(pos), pos] = 1\n",
        "\n",
        "y = pm.Top\n",
        "X = pm.drop(columns = ['Rank', 'Position', 'Team', 'Points', 'Top'])\n",
        "X_train, X_test, y_train, y_test = train_test_split(X,y, test_size=0.33, random_state=0)"
      ],
      "execution_count": 160,
      "outputs": []
    },
    {
      "cell_type": "markdown",
      "metadata": {
        "id": "hfo1rtJ_V0xv"
      },
      "source": [
        "#### K-Nearest Neighbors"
      ]
    },
    {
      "cell_type": "code",
      "metadata": {
        "colab": {
          "base_uri": "https://localhost:8080/"
        },
        "id": "OTZyEtdVHWrC",
        "outputId": "b2474d57-acec-4dc2-9593-d02ebc681a3f"
      },
      "source": [
        "knn = KNN(n_neighbors=10)\n",
        "knn.fit(X_train, y_train)\n",
        "y_pred = knn.predict(X_test)\n",
        "test_score = accuracy_score(y_pred, y_test)\n",
        "print(\"test accuracy\", test_score)\n",
        "knn_pred = knn.predict(X_train)\n",
        "train_score = accuracy_score(knn_pred, y_train)\n",
        "print(\"training accuracy\" , train_score)"
      ],
      "execution_count": 161,
      "outputs": [
        {
          "output_type": "stream",
          "text": [
            "test accuracy 0.794392523364486\n",
            "training accuracy 0.8564814814814815\n"
          ],
          "name": "stdout"
        }
      ]
    },
    {
      "cell_type": "markdown",
      "metadata": {
        "id": "70EarEdHV25Q"
      },
      "source": [
        "#### Gausian Naive Bayes"
      ]
    },
    {
      "cell_type": "code",
      "metadata": {
        "colab": {
          "base_uri": "https://localhost:8080/"
        },
        "id": "wCnHqt1pHdgo",
        "outputId": "32258a79-9f66-4e91-ef20-80a8964357da"
      },
      "source": [
        "gnb = GNB()\n",
        "gnb.fit(X_train, y_train)\n",
        "y_pred = gnb.predict(X_test)\n",
        "test_score = accuracy_score(y_pred, y_test)\n",
        "print(\"test accuracy\", test_score)\n",
        "knn_pred = gnb.predict(X_train)\n",
        "train_score = accuracy_score(knn_pred, y_train)\n",
        "print(\"training accuracy\" , train_score)"
      ],
      "execution_count": 162,
      "outputs": [
        {
          "output_type": "stream",
          "text": [
            "test accuracy 0.8037383177570093\n",
            "training accuracy 0.7962962962962963\n"
          ],
          "name": "stdout"
        }
      ]
    },
    {
      "cell_type": "markdown",
      "metadata": {
        "id": "68dagy1GWGAm"
      },
      "source": [
        "#### Decision Tree"
      ]
    },
    {
      "cell_type": "code",
      "metadata": {
        "colab": {
          "base_uri": "https://localhost:8080/"
        },
        "id": "MDm4aKLmV85J",
        "outputId": "54034195-cda7-4d3b-ff5a-d50d24fd3126"
      },
      "source": [
        "dtc = DTC(random_state=0, max_depth=3)\n",
        "dtc.fit(X_train, y_train)\n",
        "y_pred = dtc.predict(X_test)\n",
        "print(\"test accuracy\", test_score)\n",
        "knn_pred = dtc.predict(X_train)\n",
        "train_score = accuracy_score(knn_pred, y_train)\n",
        "print(\"training accuracy\" , train_score)"
      ],
      "execution_count": 163,
      "outputs": [
        {
          "output_type": "stream",
          "text": [
            "test accuracy 0.8037383177570093\n",
            "training accuracy 0.875\n"
          ],
          "name": "stdout"
        }
      ]
    },
    {
      "cell_type": "markdown",
      "metadata": {
        "id": "ENGEn6aQXOdy"
      },
      "source": [
        "#### Random Forest"
      ]
    },
    {
      "cell_type": "code",
      "metadata": {
        "colab": {
          "base_uri": "https://localhost:8080/"
        },
        "id": "K8t6T-SaWcbv",
        "outputId": "50422db1-d046-40a9-c1a9-e1e654d402d0"
      },
      "source": [
        "rf = RFC(max_depth=3)\n",
        "rf.fit(X_train, y_train)\n",
        "y_pred = rf.predict(X_test)\n",
        "print(\"test accuracy\", test_score)\n",
        "knn_pred = rf.predict(X_train)\n",
        "train_score = accuracy_score(knn_pred, y_train)\n",
        "print(\"training accuracy\" , train_score)"
      ],
      "execution_count": 164,
      "outputs": [
        {
          "output_type": "stream",
          "text": [
            "test accuracy 0.8037383177570093\n",
            "training accuracy 0.8935185185185185\n"
          ],
          "name": "stdout"
        }
      ]
    },
    {
      "cell_type": "code",
      "metadata": {
        "id": "BR5BUvw3XgeW"
      },
      "source": [
        ""
      ],
      "execution_count": null,
      "outputs": []
    }
  ]
}